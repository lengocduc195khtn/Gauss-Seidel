{
  "nbformat": 4,
  "nbformat_minor": 0,
  "metadata": {
    "colab": {
      "provenance": []
    },
    "kernelspec": {
      "name": "python3",
      "display_name": "Python 3"
    },
    "language_info": {
      "name": "python"
    }
  },
  "cells": [
    {
      "cell_type": "code",
      "execution_count": null,
      "metadata": {
        "colab": {
          "base_uri": "https://localhost:8080/"
        },
        "id": "-a7nCPF90XP-",
        "outputId": "2dd21836-9933-41a4-cb41-f26d6cd0c9f0"
      },
      "outputs": [
        {
          "output_type": "stream",
          "name": "stdout",
          "text": [
            "x_k= [1.0432968751314802, 2.269234871716413, -1.0817358878546548]\n",
            "4\n",
            "[ 1.04329688  2.26923487 -1.08173589]\n"
          ]
        }
      ],
      "source": [
        "import numpy as np\n",
        "\n",
        "def distance(x, x_temp):\n",
        "    dist = 0\n",
        "    for i in range(len(x_temp)):\n",
        "        dist += (x[i]-x_temp[i])*(x[i]-x_temp[i])\n",
        "\n",
        "    return np.sqrt(dist)\n",
        "\n",
        "def Gauss_Seidel(n, a, b, x, TOL, N):\n",
        "    k = 1\n",
        "    while(k<=N):\n",
        "        x_temp = []\n",
        "        for i in range(n):\n",
        "            sum = 0\n",
        "            for j in range(0, i):\n",
        "                sum += a[i][j]*x_temp[j]\n",
        "            for j in range(i+1, n):\n",
        "                sum += a[i][j]*x[k-1][j]\n",
        "            xi = 1/a[i][i]*(-sum + b[i])\n",
        "            x_temp.append(xi)\n",
        "        x.append(x_temp)\n",
        "        if(distance(x[k-1], x_temp)<=TOL):\n",
        "            return x_temp, k, x\n",
        "        k = k + 1\n",
        "    return None\n",
        "\n",
        "if __name__ == '__main__':\n",
        "    x = []\n",
        "    x.append([0, 0, 0])\n",
        "    TOL = pow(10, -3)\n",
        "    N = 10\n",
        "    a = [[10, -1, 2],\n",
        "         [-1, 11, -1],\n",
        "         [2, -1, 10]]\n",
        "    n = 3\n",
        "    b = [6, 25, -11]\n",
        "\n",
        "    x_k, k, x_new = Gauss_Seidel(n, a, b, x, TOL, N)\n",
        "    print(\"x_k=\",x_k)\n",
        "    print(k)\n",
        "    print(np.around(x_k, decimals=8 ))"
      ]
    }
  ]
}